{
 "cells": [
  {
   "cell_type": "markdown",
   "metadata": {},
   "source": [
    "# Initialization\n",
    "\n",
    "Here we initialized our program and test if we have all the neccessary dependcies needed to run the program.\n",
    "\n",
    "Presequisite:\n",
    "```shell\n",
    "python3 -m pip install jupyter\n",
    "\n",
    "python3 -m pip install pandas\n",
    "python3 -m pip install matplotlib\n",
    "python3 -m pip install sklearn\n",
    "python3 -m pip install scipy\n",
    "```\n"
   ]
  },
  {
   "cell_type": "code",
   "execution_count": 10,
   "metadata": {},
   "outputs": [
    {
     "name": "stdout",
     "output_type": "stream",
     "text": [
      "[INFO] Import Successfully\n",
      "[DEBUG] train_shape: (891, 12)\n"
     ]
    }
   ],
   "source": [
    "import pandas as pd\n",
    "import matplotlib.pyplot as plt\n",
    "import numpy as np\n",
    "\n",
    "from sklearn.linear_model import LogisticRegression\n",
    "from sklearn.model_selection import train_test_split, cross_val_score\n",
    "from sklearn.metrics import accuracy_score\n",
    "\n",
    "print(\"[INFO] Import Successfully\")\n",
    "\n",
    "train = pd.read_csv(\"data/train.csv\")\n",
    "train_shape = train.shape\n",
    "\n",
    "print(\"[DEBUG] train_shape: {0}\".format(train_shape))"
   ]
  },
  {
   "cell_type": "markdown",
   "metadata": {},
   "source": []
  },
  {
   "cell_type": "code",
   "execution_count": null,
   "metadata": {},
   "outputs": [],
   "source": []
  }
 ],
 "metadata": {
  "kernelspec": {
   "display_name": "Python 3",
   "language": "python",
   "name": "python3"
  },
  "language_info": {
   "codemirror_mode": {
    "name": "ipython",
    "version": 3
   },
   "file_extension": ".py",
   "mimetype": "text/x-python",
   "name": "python",
   "nbconvert_exporter": "python",
   "pygments_lexer": "ipython3",
   "version": "3.6.4"
  }
 },
 "nbformat": 4,
 "nbformat_minor": 2
}
